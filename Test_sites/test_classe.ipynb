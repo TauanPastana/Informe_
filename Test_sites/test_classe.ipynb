{
 "cells": [
  {
   "cell_type": "code",
   "execution_count": 25,
   "id": "9c832b40",
   "metadata": {},
   "outputs": [],
   "source": [
    "import requests\n",
    "from bs4 import BeautifulSoup\n"
   ]
  },
  {
   "cell_type": "code",
   "execution_count": 49,
   "id": "ae769f47",
   "metadata": {},
   "outputs": [],
   "source": [
    "url = \"https://www.oliberal.com/ultimas-noticias\"\n",
    "headers = {'User-Agent': 'Mozilla/5.0'}\n",
    "response = requests.get(url, headers=headers)\n"
   ]
  },
  {
   "cell_type": "code",
   "execution_count": 50,
   "id": "4670a43d",
   "metadata": {},
   "outputs": [
    {
     "data": {
      "text/plain": [
       "<Response [200]>"
      ]
     },
     "execution_count": 50,
     "metadata": {},
     "output_type": "execute_result"
    }
   ],
   "source": [
    "response"
   ]
  },
  {
   "cell_type": "code",
   "execution_count": 51,
   "id": "fc570083",
   "metadata": {},
   "outputs": [],
   "source": [
    "soup = BeautifulSoup(response.content, \"html.parser\")"
   ]
  },
  {
   "cell_type": "code",
   "execution_count": 54,
   "id": "539ae900",
   "metadata": {},
   "outputs": [],
   "source": [
    "noticias = soup.find_all( class_=\"titulo\")"
   ]
  },
  {
   "cell_type": "code",
   "execution_count": 62,
   "id": "1bf7fec9",
   "metadata": {},
   "outputs": [],
   "source": [
    "dict_noticias = {\"noticia\": dado.text  for dado in noticias}"
   ]
  },
  {
   "cell_type": "code",
   "execution_count": 63,
   "id": "09e0b125",
   "metadata": {},
   "outputs": [
    {
     "data": {
      "text/plain": [
       "{'noticia': 'Dois homens são mortos a tiros após jogo de futebol em arena na Pedreira '}"
      ]
     },
     "execution_count": 63,
     "metadata": {},
     "output_type": "execute_result"
    }
   ],
   "source": [
    "dict_noticias"
   ]
  },
  {
   "cell_type": "code",
   "execution_count": 60,
   "id": "264378ab",
   "metadata": {},
   "outputs": [],
   "source": [
    "dict_noticias = {\"Liberal\": {dado.get('href'): dado.get  for dado in noticias}}"
   ]
  },
  {
   "cell_type": "code",
   "execution_count": null,
   "id": "bf243556",
   "metadata": {},
   "outputs": [],
   "source": []
  },
  {
   "cell_type": "code",
   "execution_count": 31,
   "id": "e6c3fd1b",
   "metadata": {},
   "outputs": [],
   "source": [
    "# import importlib\n",
    "# import meusite\n",
    "# importlib.reload(meusite)\n",
    "# from meusite import Sites\n",
    "# Noticias = Sites(note)"
   ]
  }
 ],
 "metadata": {
  "kernelspec": {
   "display_name": "Python 3",
   "language": "python",
   "name": "python3"
  },
  "language_info": {
   "codemirror_mode": {
    "name": "ipython",
    "version": 3
   },
   "file_extension": ".py",
   "mimetype": "text/x-python",
   "name": "python",
   "nbconvert_exporter": "python",
   "pygments_lexer": "ipython3",
   "version": "3.13.5"
  }
 },
 "nbformat": 4,
 "nbformat_minor": 5
}
