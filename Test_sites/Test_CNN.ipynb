{
 "cells": [
  {
   "cell_type": "code",
   "execution_count": 2,
   "id": "f10e0f52",
   "metadata": {},
   "outputs": [],
   "source": [
    "import requests\n",
    "from bs4 import BeautifulSoup"
   ]
  },
  {
   "cell_type": "code",
   "execution_count": 7,
   "id": "e7b703bb",
   "metadata": {},
   "outputs": [],
   "source": [
    "\n",
    "url = \"https://www.cnnbrasil.com.br/ultimas-noticias/\"\n",
    "response = requests.get(url)\n",
    "soup = BeautifulSoup(response.content, 'html.parser')\n",
    "\n"
   ]
  },
  {
   "cell_type": "code",
   "execution_count": 12,
   "id": "bca988ac",
   "metadata": {},
   "outputs": [],
   "source": [
    "Noticias = soup.find_all('div', class_=\"flex flex-col gap-4\")"
   ]
  },
  {
   "cell_type": "code",
   "execution_count": 21,
   "id": "01b8d3df",
   "metadata": {},
   "outputs": [
    {
     "data": {
      "text/plain": [
       "[<div class=\"flex flex-col gap-4\"><a class=\"text-gray-950 hover:underline\" href=\"https://www.cnnbrasil.com.br/esportes/futebol/flamengo/flamengo-veja-na-integra-exposed-de-filipe-luis-sobre-pedro/\" rel=\"\" target=\"_self\"><h2 class=\"text-xl font-bold\">Flamengo: veja na íntegra \"exposed\" de Filipe Luis sobre Pedro</h2></a></div>,\n",
       " <div class=\"flex flex-col gap-4\"><a class=\"text-gray-950 hover:underline\" href=\"https://www.cnnbrasil.com.br/politica/vou-levar-jabuticaba-para-voce-trump-diz-lula-ao-citar-briga-tarifaria/\" rel=\"\" target=\"_self\"><h2 class=\"text-xl font-bold\">\"Vou levar jabuticaba para você, Trump\", diz Lula ao citar briga tarifária</h2></a></div>,\n",
       " <div class=\"flex flex-col gap-4\"><a class=\"text-gray-950 hover:underline\" href=\"https://www.cnnbrasil.com.br/internacional/detento-se-esconde-em-bolsa-de-colega-de-cela-e-foge-de-prisao-na-franca/\" rel=\"\" target=\"_self\"><h2 class=\"text-xl font-bold\">Detento se esconde em bolsa de colega de cela e foge de prisão na França</h2></a></div>,\n",
       " <div class=\"flex flex-col gap-4\"><a class=\"text-gray-950 hover:underline\" href=\"https://www.cnnbrasil.com.br/lifestyle/gkay-usa-vestido-plastico-inflavel-de-r-10-mil-conheca-a-peca/\" rel=\"\" target=\"_self\"><h2 class=\"text-xl font-bold\">Gkay usa vestido plástico inflável de R$ 10 mil; conheça a peça</h2></a></div>,\n",
       " <div class=\"flex flex-col gap-4\"><a class=\"text-gray-950 hover:underline\" href=\"https://www.cnnbrasil.com.br/educacao/inscricoes-para-vestibular-2026-do-ita-sao-prorrogadas/\" rel=\"\" target=\"_self\"><h2 class=\"text-xl font-bold\">Inscrições para vestibular 2026 do ITA são prorrogadas</h2></a></div>,\n",
       " <div class=\"flex flex-col gap-4\"><a class=\"text-gray-950 hover:underline\" href=\"https://www.cnnbrasil.com.br/blogs/americo-martins/economia/macroeconomia/brasil-ue-e-mexico-tem-armas-e-desafios-diferentes-ante-ameacas-de-trump/\" rel=\"\" target=\"_self\"><h2 class=\"text-xl font-bold\">Brasil, UE e México têm armas e desafios diferentes ante ameaças de Trump</h2></a><span class=\"text-sm font-normal\"><div class=\"flex items-center\"><div class=\"flex items-center\"><a class=\"mr-2\" href=\"https://www.cnnbrasil.com.br/blogs/americo-martins\" rel=\"\" target=\"_self\"><picture class=\"flex object-cover overflow-clip size-8 rounded-full border border-red-600 *:object-contain\"><img alt=\"Américo Martins\" class=\"flex size-full object-cover\" height=\"116\" loading=\"lazy\" src=\"https://admin.cnnbrasil.com.br/wp-content/uploads/sites/12/2024/02/Americo-Martins-e1708711698718.png?w=117&amp;h=116&amp;crop=0\" width=\"117\"/></picture></a><a class=\"ml-1 text-gray-400 hover:underline\" href=\"https://www.cnnbrasil.com.br/blogs/americo-martins\" rel=\"\" target=\"_self\"><span class=\"font-normal text-sm leading-normal text-gray-400\">Américo Martins</span></a></div></div></span></div>,\n",
       " <div class=\"flex flex-col gap-4\"><a class=\"text-gray-950 hover:underline\" href=\"https://www.cnnbrasil.com.br/entretenimento/nao-esta-morrendo-afirma-filha-de-ozzy-osbourne-sobre-saude-do-pai/\" rel=\"\" target=\"_self\"><h2 class=\"text-xl font-bold\">\"Não está morrendo\", afirma filha de Ozzy Osbourne sobre saúde do pai</h2></a></div>,\n",
       " <div class=\"flex flex-col gap-4\"><a class=\"text-gray-950 hover:underline\" href=\"https://www.cnnbrasil.com.br/politica/flavio-bolsonaro-rebate-rui-costa-prefere-ver-o-brasil-ser-taxado-em-200/\" rel=\"\" target=\"_self\"><h2 class=\"text-xl font-bold\">Flávio Bolsonaro rebate Rui Costa: Prefere ver o Brasil ser taxado em 200%</h2></a></div>,\n",
       " <div class=\"flex flex-col gap-4\"><a class=\"text-gray-950 hover:underline\" href=\"https://www.cnnbrasil.com.br/esportes/futebol/de-trump-a-coldplay-veja-atracoes-da-final-do-mundial-de-clubes/\" rel=\"\" target=\"_self\"><h2 class=\"text-xl font-bold\">De Trump a Coldplay: veja atrações da final do Mundial de Clubes</h2></a></div>,\n",
       " <div class=\"flex flex-col gap-4\"><a class=\"text-gray-950 hover:underline\" href=\"https://www.cnnbrasil.com.br/nacional/brasil/felipe-pitelli-sobrinho-de-andre-valadao-morre-aos-21-em-acidente-nos-eua/\" rel=\"\" target=\"_self\"><h2 class=\"text-xl font-bold\">Felipe Pitelli, sobrinho de André Valadão, morre aos 21 em acidente nos EUA</h2></a></div>]"
      ]
     },
     "execution_count": 21,
     "metadata": {},
     "output_type": "execute_result"
    }
   ],
   "source": [
    "Noticias"
   ]
  },
  {
   "cell_type": "code",
   "execution_count": null,
   "id": "1b1b7ccb",
   "metadata": {},
   "outputs": [],
   "source": [
    "dict_noticias = {\"CNN\": { noticia.get()  for noticia in Noticias}}"
   ]
  },
  {
   "cell_type": "code",
   "execution_count": null,
   "id": "d289636f",
   "metadata": {},
   "outputs": [
    {
     "name": "stdout",
     "output_type": "stream",
     "text": [
      "<div class=\"flex flex-col gap-4\"><a class=\"text-gray-950 hover:underline\" href=\"https://www.cnnbrasil.com.br/esportes/futebol/flamengo/flamengo-veja-na-integra-exposed-de-filipe-luis-sobre-pedro/\" rel=\"\" target=\"_self\"><h2 class=\"text-xl font-bold\">Flamengo: veja na íntegra \"exposed\" de Filipe Luis sobre Pedro</h2></a></div>\n",
      "<div class=\"flex flex-col gap-4\"><a class=\"text-gray-950 hover:underline\" href=\"https://www.cnnbrasil.com.br/politica/vou-levar-jabuticaba-para-voce-trump-diz-lula-ao-citar-briga-tarifaria/\" rel=\"\" target=\"_self\"><h2 class=\"text-xl font-bold\">\"Vou levar jabuticaba para você, Trump\", diz Lula ao citar briga tarifária</h2></a></div>\n",
      "<div class=\"flex flex-col gap-4\"><a class=\"text-gray-950 hover:underline\" href=\"https://www.cnnbrasil.com.br/internacional/detento-se-esconde-em-bolsa-de-colega-de-cela-e-foge-de-prisao-na-franca/\" rel=\"\" target=\"_self\"><h2 class=\"text-xl font-bold\">Detento se esconde em bolsa de colega de cela e foge de prisão na França</h2></a></div>\n",
      "<div class=\"flex flex-col gap-4\"><a class=\"text-gray-950 hover:underline\" href=\"https://www.cnnbrasil.com.br/lifestyle/gkay-usa-vestido-plastico-inflavel-de-r-10-mil-conheca-a-peca/\" rel=\"\" target=\"_self\"><h2 class=\"text-xl font-bold\">Gkay usa vestido plástico inflável de R$ 10 mil; conheça a peça</h2></a></div>\n",
      "<div class=\"flex flex-col gap-4\"><a class=\"text-gray-950 hover:underline\" href=\"https://www.cnnbrasil.com.br/educacao/inscricoes-para-vestibular-2026-do-ita-sao-prorrogadas/\" rel=\"\" target=\"_self\"><h2 class=\"text-xl font-bold\">Inscrições para vestibular 2026 do ITA são prorrogadas</h2></a></div>\n",
      "<div class=\"flex flex-col gap-4\"><a class=\"text-gray-950 hover:underline\" href=\"https://www.cnnbrasil.com.br/blogs/americo-martins/economia/macroeconomia/brasil-ue-e-mexico-tem-armas-e-desafios-diferentes-ante-ameacas-de-trump/\" rel=\"\" target=\"_self\"><h2 class=\"text-xl font-bold\">Brasil, UE e México têm armas e desafios diferentes ante ameaças de Trump</h2></a><span class=\"text-sm font-normal\"><div class=\"flex items-center\"><div class=\"flex items-center\"><a class=\"mr-2\" href=\"https://www.cnnbrasil.com.br/blogs/americo-martins\" rel=\"\" target=\"_self\"><picture class=\"flex object-cover overflow-clip size-8 rounded-full border border-red-600 *:object-contain\"><img alt=\"Américo Martins\" class=\"flex size-full object-cover\" height=\"116\" loading=\"lazy\" src=\"https://admin.cnnbrasil.com.br/wp-content/uploads/sites/12/2024/02/Americo-Martins-e1708711698718.png?w=117&amp;h=116&amp;crop=0\" width=\"117\"/></picture></a><a class=\"ml-1 text-gray-400 hover:underline\" href=\"https://www.cnnbrasil.com.br/blogs/americo-martins\" rel=\"\" target=\"_self\"><span class=\"font-normal text-sm leading-normal text-gray-400\">Américo Martins</span></a></div></div></span></div>\n",
      "<div class=\"flex flex-col gap-4\"><a class=\"text-gray-950 hover:underline\" href=\"https://www.cnnbrasil.com.br/entretenimento/nao-esta-morrendo-afirma-filha-de-ozzy-osbourne-sobre-saude-do-pai/\" rel=\"\" target=\"_self\"><h2 class=\"text-xl font-bold\">\"Não está morrendo\", afirma filha de Ozzy Osbourne sobre saúde do pai</h2></a></div>\n",
      "<div class=\"flex flex-col gap-4\"><a class=\"text-gray-950 hover:underline\" href=\"https://www.cnnbrasil.com.br/politica/flavio-bolsonaro-rebate-rui-costa-prefere-ver-o-brasil-ser-taxado-em-200/\" rel=\"\" target=\"_self\"><h2 class=\"text-xl font-bold\">Flávio Bolsonaro rebate Rui Costa: Prefere ver o Brasil ser taxado em 200%</h2></a></div>\n",
      "<div class=\"flex flex-col gap-4\"><a class=\"text-gray-950 hover:underline\" href=\"https://www.cnnbrasil.com.br/esportes/futebol/de-trump-a-coldplay-veja-atracoes-da-final-do-mundial-de-clubes/\" rel=\"\" target=\"_self\"><h2 class=\"text-xl font-bold\">De Trump a Coldplay: veja atrações da final do Mundial de Clubes</h2></a></div>\n",
      "<div class=\"flex flex-col gap-4\"><a class=\"text-gray-950 hover:underline\" href=\"https://www.cnnbrasil.com.br/nacional/brasil/felipe-pitelli-sobrinho-de-andre-valadao-morre-aos-21-em-acidente-nos-eua/\" rel=\"\" target=\"_self\"><h2 class=\"text-xl font-bold\">Felipe Pitelli, sobrinho de André Valadão, morre aos 21 em acidente nos EUA</h2></a></div>\n"
     ]
    }
   ],
   "source": [
    "for noticia in Noticias:\n",
    "    print(noticia.find(class_=\"text-gray-950.hover:underline\"))"
   ]
  }
 ],
 "metadata": {
  "kernelspec": {
   "display_name": "Python 3",
   "language": "python",
   "name": "python3"
  },
  "language_info": {
   "codemirror_mode": {
    "name": "ipython",
    "version": 3
   },
   "file_extension": ".py",
   "mimetype": "text/x-python",
   "name": "python",
   "nbconvert_exporter": "python",
   "pygments_lexer": "ipython3",
   "version": "3.13.5"
  }
 },
 "nbformat": 4,
 "nbformat_minor": 5
}
