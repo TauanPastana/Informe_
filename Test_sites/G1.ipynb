{
 "cells": [
  {
   "cell_type": "code",
   "execution_count": 1,
   "id": "eb1ad9bc",
   "metadata": {},
   "outputs": [],
   "source": [
    "import requests\n",
    "from bs4 import BeautifulSoup\n",
    "import sys\n",
    "sys.path.append(r'c:\\Users\\User\\Desktop\\dev\\Projetos-git\\Ultimos-noticias')\n",
    "\n",
    "import importlib\n",
    "import Classes.meusite as meusite\n",
    "importlib.reload(meusite)\n",
    "from Classes.meusite import Sites"
   ]
  },
  {
   "cell_type": "code",
   "execution_count": null,
   "id": "68fab22d",
   "metadata": {},
   "outputs": [
    {
     "data": {
      "text/plain": [
       "[<a class=\"feed-post-link gui-color-primary gui-color-hover\" href=\"https://g1.globo.com/ac/acre/playlist/videos-jornal-do-acre-2-edicao-deste-sabado-de-12-de-julho-de-2025.ghtml\"><p elementtiming=\"text-ssr\">VÍDEOS: Jornal do Acre 2ª Edição deste sábado, de 12 de julho de 2025</p></a>,\n",
       " <a class=\"feed-post-link gui-color-primary gui-color-hover\" href=\"https://g1.globo.com/ba/bahia/noticia/2025/07/13/o-que-se-sabe-operacao-que-apura-oito-execucoes-na-bahia.ghtml\"><p elementtiming=\"text-ssr\">Delegado investigado e três adolescentes mortos: o que se sabe sobre operação que apura oito execuções na Bahia</p></a>,\n",
       " <a class=\"feed-post-link gui-color-primary gui-color-hover\" href=\"https://g1.globo.com/ap/amapa/noticia/2025/07/13/veja-como-doar-sangue-durante-periodo-de-ferias-no-amapa.ghtml\"><p elementtiming=\"text-ssr\">Veja como doar sangue durante período de férias no Amapá</p></a>,\n",
       " <a class=\"feed-post-link gui-color-primary gui-color-hover\" href=\"https://g1.globo.com/sp/sao-carlos-regiao/noticia/2025/07/13/dois-jovens-sao-presos-com-5-mil-comprimidos-de-ecstasy-em-carro-na-rodovia-washington-luis.ghtml\"><p elementtiming=\"text-ssr\">Dois jovens são presos com 5 mil comprimidos de ecstasy em carro na Rodovia Washington Luís</p></a>,\n",
       " <a class=\"feed-post-link gui-color-primary gui-color-hover\" href=\"https://g1.globo.com/ac/acre/noticia/2025/07/13/caso-juliana-chaar-familiares-de-motorista-sao-presos-durante-operacao-montada-para-prender-suspeito-no-acre.ghtml\"><p elementtiming=\"text-ssr\">Caso Juliana Chaar: familiares de motorista são presos durante operação montada para prender suspeito no Acre </p></a>,\n",
       " <a class=\"feed-post-link gui-color-primary gui-color-hover\" href=\"https://g1.globo.com/sp/sao-jose-do-rio-preto-aracatuba/noticia/2025/07/13/pedestre-morre-atropelado-enquanto-prestava-apoio-a-vitima-de-acidente-caida-em-rodovia-de-birigui.ghtml\"><p elementtiming=\"text-ssr\">Pedestre morre atropelado enquanto prestava apoio a vítima de acidente caída em rodovia de Birigui</p></a>,\n",
       " <a class=\"feed-post-link gui-color-primary gui-color-hover\" href=\"https://g1.globo.com/sp/vale-do-paraiba-regiao/noticia/2025/07/13/medalha-de-ouro-em-matematica-e-robotica-minigenio-de-9-anos-tem-qi-mais-alto-do-que-98percent-da-populacao-mundial.ghtml\"><p elementtiming=\"text-ssr\">Medalha de ouro em matemática e robótica, 'minigênio' de 9 anos tem QI mais alto do que 98% da população mundial</p></a>,\n",
       " <a class=\"feed-post-link gui-color-primary gui-color-hover\" href=\"https://g1.globo.com/sc/santa-catarina/noticia/2025/07/13/florianopolis-amanhece-forte-nevoeiro-capital-vira-cidade-fantasma.ghtml\"><p elementtiming=\"text-ssr\">Florianópolis amanhece sob forte nevoeiro e capital vira ‘cidade fantasma’</p></a>,\n",
       " <a class=\"feed-post-link gui-color-primary gui-color-hover\" href=\"https://g1.globo.com/rr/roraima/noticia/2025/07/13/jovem-atinge-homem-com-golpe-de-machado-e-e-morto-apos-briga-no-canta-norte-de-roraima.ghtml\"><p elementtiming=\"text-ssr\">Jovem atinge homem com golpe de machado e é morto após briga no Cantá, Norte de Roraima</p></a>,\n",
       " <a class=\"feed-post-link gui-color-primary gui-color-hover\" href=\"https://g1.globo.com/pr/parana/noticia/2025/07/13/motorista-de-carro-atingido-por-camaro-de-piloto-de-formula-truck-morre.ghtml\"><p elementtiming=\"text-ssr\">Motorista de carro atingido por Camaro de piloto de Fórmula Truck morre no hospital em Curitiba</p></a>]"
      ]
     },
     "execution_count": 5,
     "metadata": {},
     "output_type": "execute_result"
    }
   ],
   "source": [
    "url = \"https://g1.globo.com/ultimas-noticias/\"\n",
    "\n",
    "def raspagem(url):\n",
    "    response = requests.get(url)\n",
    "    soup = BeautifulSoup(response.content, 'html.parser')\n",
    "    noticias = soup.find_all('a', class_='feed-post-link gui-color-primary gui-color-hover')\n",
    "    dict_noticias = {\"G1\":\n",
    "                {noticia.text: noticia.get('href') for noticia in noticias}\n",
    "                }\n",
    "    return dict_noticias\n",
    "\n",
    "\n",
    "site_g1 = Sites(raspagem(url))"
   ]
  },
  {
   "cell_type": "code",
   "execution_count": 3,
   "id": "12414e8e",
   "metadata": {},
   "outputs": [],
   "source": [
    "importlib.reload(meusite)\n",
    "from Classes.meusite import Sites"
   ]
  },
  {
   "cell_type": "code",
   "execution_count": 4,
   "id": "6c3c44ea",
   "metadata": {},
   "outputs": [
    {
     "name": "stdout",
     "output_type": "stream",
     "text": [
      "Noticias: G1 -- Ultima atualização às 13:27:41 de 2025-07-13 \n",
      "------------------------------------------------------------------------------------------------------------------------------------------------------------------------------------\n",
      "|Avião de pequeno porte cai em aeroporto nos arredores de Londres-- Link: https://g1.globo.com/mundo/noticia/2025/07/13/aviao-de-pequeno-porte-cai-em-aeroporto-nos-arredores-de-londres.ghtml |\n",
      "-----------------------------------------------------------------------------------------------------------------------------------------------------------------------------------------------------------------------------\n",
      "|Motorista tomba carro, apresenta sinais de embriaguez e é detido em Juiz de Fora-- Link: https://g1.globo.com/mg/zona-da-mata/noticia/2025/07/13/motorista-tomba-carro-apresenta-sinais-de-embriaguez-e-e-detido-em-juiz-de-fora.ghtml |\n",
      "----------------------------------------------------------------------------------------------------------------------------------------------------------------------------------------------------------------------------\n",
      "|VÍDEO: Dois homens ficam feridos após tentativas de homicídio em Porto Alegre-- Link: https://g1.globo.com/rs/rio-grande-do-sul/noticia/2025/07/13/video-dois-homens-ficam-feridos-apos-tentativas-de-homicidio-em-porto-alegre.ghtml |\n",
      "-----------------------------------------------------------------------------------------------------------------------------------------------------------------------------------\n",
      "|VÍDEOS: Jornal do Acre 2ª Edição deste sábado, de 12 de julho de 2025-- Link: https://g1.globo.com/ac/acre/playlist/videos-jornal-do-acre-2-edicao-deste-sabado-de-12-de-julho-de-2025.ghtml |\n",
      "------------------------------------------------------------------------------------------------------------------------------------------------------------------------------------------------------------------------------\n",
      "|Delegado investigado e três adolescentes mortos: o que se sabe sobre operação que apura oito execuções na Bahia-- Link: https://g1.globo.com/ba/bahia/noticia/2025/07/13/o-que-se-sabe-operacao-que-apura-oito-execucoes-na-bahia.ghtml |\n",
      "-----------------------------------------------------------------------------------------------------------------------------------------------------------------------\n",
      "|Veja como doar sangue durante período de férias no Amapá-- Link: https://g1.globo.com/ap/amapa/noticia/2025/07/13/veja-como-doar-sangue-durante-periodo-de-ferias-no-amapa.ghtml |\n",
      "---------------------------------------------------------------------------------------------------------------------------------------------------------------------------------------------------------------------------------------------------------\n",
      "|Dois jovens são presos com 5 mil comprimidos de ecstasy em carro na Rodovia Washington Luís-- Link: https://g1.globo.com/sp/sao-carlos-regiao/noticia/2025/07/13/dois-jovens-sao-presos-com-5-mil-comprimidos-de-ecstasy-em-carro-na-rodovia-washington-luis.ghtml |\n",
      "--------------------------------------------------------------------------------------------------------------------------------------------------------------------------------------------------------------------------------------------------------------------------------\n",
      "|Caso Juliana Chaar: familiares de motorista são presos durante operação montada para prender suspeito no Acre -- Link: https://g1.globo.com/ac/acre/noticia/2025/07/13/caso-juliana-chaar-familiares-de-motorista-sao-presos-durante-operacao-montada-para-prender-suspeito-no-acre.ghtml |\n",
      "-------------------------------------------------------------------------------------------------------------------------------------------------------------------------------------------------------------------------------------------------------------------------------------\n",
      "|Pedestre morre atropelado enquanto prestava apoio à vítima de acidente caída em rodovia de Birigui-- Link: https://g1.globo.com/sp/sao-jose-do-rio-preto-aracatuba/noticia/2025/07/13/pedestre-morre-atropelado-enquanto-prestava-apoio-a-vitima-de-acidente-caida-em-rodovia-de-birigui.ghtml |\n",
      "-----------------------------------------------------------------------------------------------------------------------------------------------------------------------------------------------------------------------------------------------------------------------------------------------------------\n",
      "|Medalha de ouro em matemática e robótica, 'minigênio' de 9 anos tem QI mais alto do que 98% da população mundial-- Link: https://g1.globo.com/sp/vale-do-paraiba-regiao/noticia/2025/07/13/medalha-de-ouro-em-matematica-e-robotica-minigenio-de-9-anos-tem-qi-mais-alto-do-que-98percent-da-populacao-mundial.ghtml |\n",
      "\n"
     ]
    }
   ],
   "source": [
    "site_g1.imprimir_informacao()"
   ]
  }
 ],
 "metadata": {
  "kernelspec": {
   "display_name": "Python 3",
   "language": "python",
   "name": "python3"
  },
  "language_info": {
   "codemirror_mode": {
    "name": "ipython",
    "version": 3
   },
   "file_extension": ".py",
   "mimetype": "text/x-python",
   "name": "python",
   "nbconvert_exporter": "python",
   "pygments_lexer": "ipython3",
   "version": "3.13.5"
  }
 },
 "nbformat": 4,
 "nbformat_minor": 5
}
